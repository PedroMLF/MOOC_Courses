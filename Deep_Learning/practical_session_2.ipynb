{
 "cells": [
  {
   "cell_type": "markdown",
   "metadata": {},
   "source": [
    "## Practical Session 2\n",
    "\n",
    "[Source](https://documents.epfl.ch/users/f/fl/fleuret/www/dlc/dlc-practical-2.pdf)"
   ]
  },
  {
   "cell_type": "code",
   "execution_count": 1,
   "metadata": {},
   "outputs": [],
   "source": [
    "import torch\n",
    "from torch import Tensor\n",
    "import dlc_practical_prologue as prologue"
   ]
  },
  {
   "cell_type": "markdown",
   "metadata": {},
   "source": [
    "#### 1. Nearest neighbor"
   ]
  },
  {
   "cell_type": "code",
   "execution_count": 2,
   "metadata": {},
   "outputs": [],
   "source": [
    "def nearest_classification(train_input, train_target, x):\n",
    "    \"\"\"\n",
    "    train_input  : n x d\n",
    "    train_target : n x 1\n",
    "    x            : 1 x d\n",
    "    \"\"\"\n",
    "    \n",
    "    euclidean_dist = (train_input - x).pow(2).sum(1)\n",
    "    min_v, min_ix = torch.min(euclidean_dist, 0)\n",
    "    min_ix = min_ix[0]\n",
    "    \n",
    "    return train_target[min_ix]"
   ]
  },
  {
   "cell_type": "markdown",
   "metadata": {},
   "source": [
    "#### 2. Error estimation"
   ]
  },
  {
   "cell_type": "code",
   "execution_count": 33,
   "metadata": {},
   "outputs": [],
   "source": [
    "def compute_nb_errors(train_input, train_target, test_input, test_target,\n",
    "                      mean = None, proj = None):\n",
    "    \n",
    "    \"\"\"\n",
    "    train_input  : n x d\n",
    "    train_target : n x 1\n",
    "    test_input   : m x d\n",
    "    test_target  : m x 1\n",
    "    mean         : None OR d x 1\n",
    "    proj         : None OR c x d\n",
    "    \"\"\"\n",
    "    \n",
    "    nr_errors = 0\n",
    "    \n",
    "    if mean is not None:\n",
    "        \n",
    "        train_input = train_input - mean\n",
    "        test_input = test_input - mean\n",
    "        \n",
    "    if proj is not None:\n",
    "        # proj has to be transposed for the dimensions to be correct\n",
    "        train_input = train_input.mm(proj.t())\n",
    "        test_input = test_input.mm(proj.t())\n",
    "        \n",
    "    for row in range(test_input.size(0)):\n",
    "        pred_target = nearest_classification(train_input,train_target,\n",
    "                                             test_input[row])\n",
    "        \n",
    "        test_target = test_target[row]\n",
    "        \n",
    "        if test_target != pred_target: nr_errors+=1\n",
    "            \n",
    "    return nr_errors"
   ]
  },
  {
   "cell_type": "markdown",
   "metadata": {},
   "source": [
    "#### 3. PCA"
   ]
  },
  {
   "cell_type": "code",
   "execution_count": 112,
   "metadata": {},
   "outputs": [],
   "source": [
    "def PCA(x):\n",
    "    \"\"\"\n",
    "    x : n x d\n",
    "    \"\"\"\n",
    "    \n",
    "    # Remove the mean from data\n",
    "    mean = x.mean(0)\n",
    "    x = x - mean\n",
    "    \n",
    "    # Create covariance matrix\n",
    "    cov_mx = 1/(x.size(1)) * x.mm(x.t())\n",
    "    \n",
    "    # Get the eigen values and eigen vectors\n",
    "    eig_val, eig_vect = torch.eig(cov_mx, eigenvectors=True)\n",
    "        \n",
    "    # Sort the eigen values in descending order\n",
    "    sorted_indices = eig_val[:, 0].abs().sort(0, True)[1]\n",
    "    \n",
    "    # Return the basis with the sorted eigen vectors\n",
    "    eig_vect = eig_vect[sorted_indices]\n",
    "    \n",
    "    return (mean, eig_vect)"
   ]
  },
  {
   "cell_type": "markdown",
   "metadata": {},
   "source": [
    "NOTE: This vector column notation is ew."
   ]
  },
  {
   "cell_type": "code",
   "execution_count": null,
   "metadata": {},
   "outputs": [],
   "source": []
  }
 ],
 "metadata": {
  "kernelspec": {
   "display_name": "Python 3",
   "language": "python",
   "name": "python3"
  },
  "language_info": {
   "codemirror_mode": {
    "name": "ipython",
    "version": 3
   },
   "file_extension": ".py",
   "mimetype": "text/x-python",
   "name": "python",
   "nbconvert_exporter": "python",
   "pygments_lexer": "ipython3",
   "version": "3.5.2"
  }
 },
 "nbformat": 4,
 "nbformat_minor": 2
}
