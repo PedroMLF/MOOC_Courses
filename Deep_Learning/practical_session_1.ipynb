{
 "cells": [
  {
   "cell_type": "markdown",
   "metadata": {},
   "source": [
    "## Practical Session 1\n",
    "\n",
    "[Source](https://documents.epfl.ch/users/f/fl/fleuret/www/dlc/dlc-practical-1.pdf)"
   ]
  },
  {
   "cell_type": "code",
   "execution_count": 1,
   "metadata": {},
   "outputs": [],
   "source": [
    "import torch\n",
    "\n",
    "from torch import Tensor"
   ]
  },
  {
   "cell_type": "markdown",
   "metadata": {},
   "source": [
    "#### 1. Multiple views of a storage"
   ]
  },
  {
   "cell_type": "code",
   "execution_count": 2,
   "metadata": {},
   "outputs": [
    {
     "name": "stdout",
     "output_type": "stream",
     "text": [
      "\n",
      "    1     2     1     1     1     1     2     1     1     1     1     2     1\n",
      "    2     2     2     2     2     2     2     2     2     2     2     2     2\n",
      "    1     2     1     1     1     1     2     1     1     1     1     2     1\n",
      "    1     2     1     3     3     1     2     1     3     3     1     2     1\n",
      "    1     2     1     3     3     1     2     1     3     3     1     2     1\n",
      "    1     2     1     1     1     1     2     1     1     1     1     2     1\n",
      "    2     2     2     2     2     2     2     2     2     2     2     2     2\n",
      "    1     2     1     1     1     1     2     1     1     1     1     2     1\n",
      "    1     2     1     3     3     1     2     1     3     3     1     2     1\n",
      "    1     2     1     3     3     1     2     1     3     3     1     2     1\n",
      "    1     2     1     1     1     1     2     1     1     1     1     2     1\n",
      "    2     2     2     2     2     2     2     2     2     2     2     2     2\n",
      "    1     2     1     1     1     1     2     1     1     1     1     2     1\n",
      "[torch.FloatTensor of size 13x13]\n",
      "\n"
     ]
    }
   ],
   "source": [
    "# Initialize the tensor\n",
    "m = Tensor(13,13).fill_(1)\n",
    "\n",
    "# Fill the rows of \"2\" on the matrix\n",
    "m.narrow(0, 1, 1).fill_(2)\n",
    "m.narrow(0, 6, 1).fill_(2)\n",
    "m.narrow(0, 11, 1).fill_(2)\n",
    "\n",
    "# Fill the columns of \"2\" on the matrix\n",
    "m.narrow(1, 1, 1).fill_(2)\n",
    "m.narrow(1, 6, 1).fill_(2)\n",
    "m.narrow(1, 11, 1).fill_(2)\n",
    "\n",
    "# Fill the rows of \"3\" on the matrix\n",
    "m.narrow(0, 3, 2)[:, 3:5].fill_(3)\n",
    "m.narrow(0, 8, 2)[:, 3:5].fill_(3)\n",
    "m.narrow(0, 3, 2)[:, 8:10].fill_(3)\n",
    "m.narrow(0, 8, 2)[:, 8:10].fill_(3)\n",
    "\n",
    "print(m)"
   ]
  },
  {
   "cell_type": "code",
   "execution_count": null,
   "metadata": {},
   "outputs": [],
   "source": []
  }
 ],
 "metadata": {
  "kernelspec": {
   "display_name": "Python 3",
   "language": "python",
   "name": "python3"
  },
  "language_info": {
   "codemirror_mode": {
    "name": "ipython",
    "version": 3
   },
   "file_extension": ".py",
   "mimetype": "text/x-python",
   "name": "python",
   "nbconvert_exporter": "python",
   "pygments_lexer": "ipython3",
   "version": "3.5.2"
  }
 },
 "nbformat": 4,
 "nbformat_minor": 2
}
