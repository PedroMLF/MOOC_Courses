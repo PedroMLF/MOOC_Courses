{
 "cells": [
  {
   "cell_type": "markdown",
   "metadata": {},
   "source": [
    "## Practical Session 1\n",
    "\n",
    "[Source](https://documents.epfl.ch/users/f/fl/fleuret/www/dlc/dlc-practical-1.pdf)"
   ]
  },
  {
   "cell_type": "code",
   "execution_count": 1,
   "metadata": {},
   "outputs": [],
   "source": [
    "import torch\n",
    "from torch import Tensor\n",
    "\n",
    "import time"
   ]
  },
  {
   "cell_type": "markdown",
   "metadata": {},
   "source": [
    "#### 1. Multiple views of a storage"
   ]
  },
  {
   "cell_type": "code",
   "execution_count": 2,
   "metadata": {
    "scrolled": true
   },
   "outputs": [
    {
     "name": "stdout",
     "output_type": "stream",
     "text": [
      "\n",
      "    1     2     1     1     1     1     2     1     1     1     1     2     1\n",
      "    2     2     2     2     2     2     2     2     2     2     2     2     2\n",
      "    1     2     1     1     1     1     2     1     1     1     1     2     1\n",
      "    1     2     1     3     3     1     2     1     3     3     1     2     1\n",
      "    1     2     1     3     3     1     2     1     3     3     1     2     1\n",
      "    1     2     1     1     1     1     2     1     1     1     1     2     1\n",
      "    2     2     2     2     2     2     2     2     2     2     2     2     2\n",
      "    1     2     1     1     1     1     2     1     1     1     1     2     1\n",
      "    1     2     1     3     3     1     2     1     3     3     1     2     1\n",
      "    1     2     1     3     3     1     2     1     3     3     1     2     1\n",
      "    1     2     1     1     1     1     2     1     1     1     1     2     1\n",
      "    2     2     2     2     2     2     2     2     2     2     2     2     2\n",
      "    1     2     1     1     1     1     2     1     1     1     1     2     1\n",
      "[torch.FloatTensor of size 13x13]\n",
      "\n"
     ]
    }
   ],
   "source": [
    "# Initialize the tensor\n",
    "m = Tensor(13,13).fill_(1)\n",
    "\n",
    "# Fill the rows of \"2\" on the matrix\n",
    "m.narrow(0, 1, 1).fill_(2)\n",
    "m.narrow(0, 6, 1).fill_(2)\n",
    "m.narrow(0, 11, 1).fill_(2)\n",
    "\n",
    "# Fill the columns of \"2\" on the matrix\n",
    "m.narrow(1, 1, 1).fill_(2)\n",
    "m.narrow(1, 6, 1).fill_(2)\n",
    "m.narrow(1, 11, 1).fill_(2)\n",
    "\n",
    "# Fill the rows of \"3\" on the matrix\n",
    "m.narrow(0, 3, 2)[:, 3:5].fill_(3)\n",
    "m.narrow(0, 8, 2)[:, 3:5].fill_(3)\n",
    "m.narrow(0, 3, 2)[:, 8:10].fill_(3)\n",
    "m.narrow(0, 8, 2)[:, 8:10].fill_(3)\n",
    "\n",
    "print(m)"
   ]
  },
  {
   "cell_type": "markdown",
   "metadata": {},
   "source": [
    "#### 2. Eigendecomposition"
   ]
  },
  {
   "cell_type": "code",
   "execution_count": 3,
   "metadata": {},
   "outputs": [
    {
     "name": "stdout",
     "output_type": "stream",
     "text": [
      "Eigenvalues:  \n",
      "  1.0001\n",
      "  2.0000\n",
      "  3.0000\n",
      "  4.0000\n",
      "  5.0000\n",
      "  5.9998\n",
      "  7.0000\n",
      "  8.0000\n",
      "  9.0000\n",
      "  9.9999\n",
      " 11.0000\n",
      " 11.9999\n",
      " 13.0001\n",
      " 14.0001\n",
      " 14.9998\n",
      " 16.0000\n",
      " 17.0000\n",
      " 18.0001\n",
      " 18.9999\n",
      " 20.0001\n",
      "[torch.FloatTensor of size 20]\n",
      "\n"
     ]
    }
   ],
   "source": [
    "# Create a 2d tensor filled with gaussian coefficients\n",
    "m = Tensor(20,20).normal_()\n",
    "# Create the diagonal matrix\n",
    "I = torch.diag(torch.arange(1,21))\n",
    "# Solve the proposed problem\n",
    "e, v = ((m.inverse()).mm(I).mm(m)).eig()\n",
    "print(\"Eigenvalues: \", e[:, 0].sort()[0])"
   ]
  },
  {
   "cell_type": "markdown",
   "metadata": {},
   "source": [
    "#### 3. Flops per second"
   ]
  },
  {
   "cell_type": "code",
   "execution_count": 4,
   "metadata": {},
   "outputs": [
    {
     "name": "stdout",
     "output_type": "stream",
     "text": [
      "Estimate FLOP/S:  11345468.953323262\n"
     ]
    }
   ],
   "source": [
    "# Create the two matrices\n",
    "m1 = Tensor(5000,5000).normal_()\n",
    "m2 = Tensor(5000,5000).normal_()\n",
    "\n",
    "init_time = time.perf_counter()\n",
    "m1.mm(m2)\n",
    "stop_time = time.perf_counter()\n",
    "\n",
    "# The number of operations is:\n",
    "# Each row of first matrix multiplies every element\n",
    "# on each column of the second matrix\n",
    "# m1[0]*m1[1]*m2[0]\n",
    "print(\"Estimate FLOP/S: \", 5000**3 / stop_time-init_time)"
   ]
  },
  {
   "cell_type": "markdown",
   "metadata": {},
   "source": [
    "#### 4. Playing with strides"
   ]
  },
  {
   "cell_type": "code",
   "execution_count": 5,
   "metadata": {},
   "outputs": [
    {
     "name": "stdout",
     "output_type": "stream",
     "text": [
      "Function mul_row took 8.83 s\n",
      "Function mul_row_fast took 0.0226 s\n"
     ]
    }
   ],
   "source": [
    "def time_function(func):\n",
    "    \n",
    "    def timed(*args, **kw):\n",
    "        \n",
    "        i_time = time.time()\n",
    "        output = func(*args, **kw)\n",
    "        f_time = time.time()\n",
    "        \n",
    "        print(\"Function {} took {:.3} s\".format(func.__name__, \n",
    "                                                f_time-i_time))\n",
    "\n",
    "        return output\n",
    "    \n",
    "    return timed\n",
    "\n",
    "@time_function\n",
    "def mul_row(tensor):\n",
    "    \n",
    "    nr_rows = tensor.size(0)\n",
    "    nr_cols = tensor.size(1)\n",
    "    \n",
    "    new_tensor = Tensor(nr_rows, nr_cols)\n",
    "    \n",
    "    for line in range(nr_rows):\n",
    "        for col in range(nr_cols):\n",
    "            new_tensor[line, col] = tensor[line, col] * (line+1)\n",
    "            \n",
    "@time_function\n",
    "def mul_row_fast(tensor):\n",
    "    \n",
    "    # Let's create a mask and them multiply everything\n",
    "    nr_rows = tensor.size(0)\n",
    "    \n",
    "    # First a vector is created from 1 to the nr of rows\n",
    "    # since every row will be multiplied by these values.\n",
    "    # Than view with that dimension and 1 is used to make it\n",
    "    # a 2D tensor. And then it is expanded to the same dimensions\n",
    "    # as the original tensor. Then multiply them!\n",
    "    mask = torch.arange(1, nr_rows + 1).view(nr_rows, 1).expand_as(tensor)\n",
    "\n",
    "    new_tensor = tensor.mul(mask)\n",
    "    \n",
    "x = Tensor(10000,400).fill_(2)\n",
    "\n",
    "mul_row(x)\n",
    "mul_row_fast(x)"
   ]
  },
  {
   "cell_type": "code",
   "execution_count": null,
   "metadata": {},
   "outputs": [],
   "source": []
  }
 ],
 "metadata": {
  "kernelspec": {
   "display_name": "Python 3",
   "language": "python",
   "name": "python3"
  },
  "language_info": {
   "codemirror_mode": {
    "name": "ipython",
    "version": 3
   },
   "file_extension": ".py",
   "mimetype": "text/x-python",
   "name": "python",
   "nbconvert_exporter": "python",
   "pygments_lexer": "ipython3",
   "version": "3.5.2"
  }
 },
 "nbformat": 4,
 "nbformat_minor": 2
}
