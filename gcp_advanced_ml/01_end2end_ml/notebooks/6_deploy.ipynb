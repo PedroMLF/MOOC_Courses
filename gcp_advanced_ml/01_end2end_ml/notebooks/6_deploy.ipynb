{
 "cells": [
  {
   "cell_type": "markdown",
   "metadata": {},
   "source": [
    "<h1> Deploying and predicting with model </h1>\n",
    "\n",
    "This notebook illustrates:\n",
    "<ol>\n",
    "<li> Deploying model\n",
    "<li> Predicting with model\n",
    "</ol>"
   ]
  },
  {
   "cell_type": "code",
   "execution_count": 1,
   "metadata": {},
   "outputs": [],
   "source": [
    "# change these to try this notebook out\n",
    "BUCKET = 'qwiklabs-gcp-729e9d4d1245f0fd'\n",
    "PROJECT = 'qwiklabs-gcp-729e9d4d1245f0fd'\n",
    "REGION = 'europe-west1'"
   ]
  },
  {
   "cell_type": "code",
   "execution_count": 2,
   "metadata": {},
   "outputs": [],
   "source": [
    "import os\n",
    "os.environ['BUCKET'] = BUCKET\n",
    "os.environ['PROJECT'] = PROJECT\n",
    "os.environ['REGION'] = REGION\n",
    "os.environ['TFVERSION'] = '1.7'  "
   ]
  },
  {
   "cell_type": "code",
   "execution_count": 3,
   "metadata": {},
   "outputs": [],
   "source": [
    "%%bash\n",
    "if ! gsutil ls | grep -q gs://${BUCKET}/; then\n",
    "  gsutil mb -l ${REGION} gs://${BUCKET}\n",
    "fi"
   ]
  },
  {
   "cell_type": "code",
   "execution_count": 4,
   "metadata": {},
   "outputs": [
    {
     "name": "stderr",
     "output_type": "stream",
     "text": [
      "Copying gs://cloud-training-demos/babyweight/trained_model/checkpoint...\n",
      "Copying gs://cloud-training-demos/babyweight/trained_model/eval/events.out.tfevents.1529348264.cmle-training-master-a137ac0fff-0-9q8r4...\n",
      "/ [0 files][    0.0 B/  187.0 B]                                                \r",
      "/ [0 files][    0.0 B/539.6 KiB]                                                \r",
      "Copying gs://cloud-training-demos/babyweight/trained_model/events.out.tfevents.1529347276.cmle-training-master-a137ac0fff-0-9q8r4...\n",
      "/ [0 files][    0.0 B/  2.2 MiB]                                                \r",
      "Copying gs://cloud-training-demos/babyweight/trained_model/export/exporter/1529348266/saved_model.pb...\n",
      "/ [0 files][    0.0 B/  2.4 MiB]                                                \r",
      "Copying gs://cloud-training-demos/babyweight/trained_model/export/exporter/1529348266/variables/variables.data-00000-of-00001...\n",
      "/ [0 files][    0.0 B/  2.7 MiB]                                                \r",
      "Copying gs://cloud-training-demos/babyweight/trained_model/export/exporter/1529348266/variables/variables.index...\n",
      "Copying gs://cloud-training-demos/babyweight/trained_model/export/exporter/1529348864/saved_model.pb...\n",
      "/ [0/58 files][  1.7 MiB/ 12.1 MiB]  13% Done                                   \r",
      "-\r",
      "- [1/58 files][  1.7 MiB/ 12.1 MiB]  13% Done                                   \r",
      "- [1/58 files][  1.7 MiB/ 12.1 MiB]  13% Done                                   \r",
      "- [2/58 files][  1.7 MiB/ 12.1 MiB]  13% Done                                   \r",
      "- [2/58 files][  1.7 MiB/ 12.1 MiB]  13% Done                                   \r",
      "- [3/58 files][  1.9 MiB/ 12.1 MiB]  15% Done                                   \r",
      "Copying gs://cloud-training-demos/babyweight/trained_model/export/exporter/1529348864/variables/variables.data-00000-of-00001...\n",
      "- [3/58 files][  1.9 MiB/ 12.1 MiB]  15% Done                                   \r",
      "Copying gs://cloud-training-demos/babyweight/trained_model/export/exporter/1529348864/variables/variables.index...\n",
      "- [4/58 files][  2.4 MiB/ 12.1 MiB]  20% Done                                   \r",
      "- [4/58 files][  2.4 MiB/ 12.1 MiB]  20% Done                                   \r",
      "- [5/58 files][  2.7 MiB/ 12.1 MiB]  22% Done                                   \r",
      "Copying gs://cloud-training-demos/babyweight/trained_model/export/exporter/1529349460/saved_model.pb...\n",
      "- [5/58 files][  2.7 MiB/ 12.1 MiB]  22% Done                                   \r",
      "Copying gs://cloud-training-demos/babyweight/trained_model/export/exporter/1529349460/variables/variables.data-00000-of-00001...\n",
      "\\\r",
      "\\ [6/58 files][  2.9 MiB/ 12.1 MiB]  23% Done                                   \r",
      "\\ [6/58 files][  2.9 MiB/ 12.1 MiB]  23% Done                                   \r",
      "Copying gs://cloud-training-demos/babyweight/trained_model/export/exporter/1529349460/variables/variables.index...\n",
      "\\ [7/58 files][  3.1 MiB/ 12.1 MiB]  25% Done                                   \r",
      "\\ [7/58 files][  3.1 MiB/ 12.1 MiB]  25% Done                                   \r",
      "Copying gs://cloud-training-demos/babyweight/trained_model/export/exporter/1529350065/saved_model.pb...\n",
      "Copying gs://cloud-training-demos/babyweight/trained_model/export/exporter/1529350065/variables/variables.data-00000-of-00001...\n",
      "\\ [8/58 files][  3.1 MiB/ 12.1 MiB]  25% Done                                   \r",
      "\\ [8/58 files][  3.1 MiB/ 12.1 MiB]  25% Done                                   \r",
      "\\ [9/58 files][  3.4 MiB/ 12.1 MiB]  27% Done                                   \r",
      "\\ [9/58 files][  3.4 MiB/ 12.1 MiB]  27% Done                                   \r",
      "Copying gs://cloud-training-demos/babyweight/trained_model/export/exporter/1529350065/variables/variables.index...\n",
      "|\r",
      "| [10/58 files][  3.4 MiB/ 12.1 MiB]  27% Done                                  \r",
      "| [10/58 files][  3.4 MiB/ 12.1 MiB]  27% Done                                  \r",
      "Copying gs://cloud-training-demos/babyweight/trained_model/export/exporter/1529350672/saved_model.pb...\n",
      "| [11/58 files][  3.6 MiB/ 12.1 MiB]  29% Done                                  \r",
      "| [11/58 files][  3.6 MiB/ 12.1 MiB]  29% Done                                  \r",
      "Copying gs://cloud-training-demos/babyweight/trained_model/export/exporter/1529350672/variables/variables.data-00000-of-00001...\n",
      "| [12/58 files][  3.6 MiB/ 12.1 MiB]  29% Done                                  \r",
      "| [12/58 files][  3.6 MiB/ 12.1 MiB]  29% Done                                  \r",
      "Copying gs://cloud-training-demos/babyweight/trained_model/export/exporter/1529350672/variables/variables.index...\n",
      "/\r",
      "/ [13/58 files][  3.8 MiB/ 12.1 MiB]  31% Done                                  \r",
      "/ [13/58 files][  3.8 MiB/ 12.1 MiB]  31% Done                                  \r",
      "Copying gs://cloud-training-demos/babyweight/trained_model/export/exporter/1529351274/saved_model.pb...\n",
      "/ [14/58 files][  3.8 MiB/ 12.1 MiB]  31% Done                                  \r",
      "/ [14/58 files][  3.8 MiB/ 12.1 MiB]  31% Done                                  \r",
      "Copying gs://cloud-training-demos/babyweight/trained_model/export/exporter/1529351274/variables/variables.data-00000-of-00001...\n",
      "Copying gs://cloud-training-demos/babyweight/trained_model/export/exporter/1529351274/variables/variables.index...\n",
      "/ [15/58 files][  4.0 MiB/ 12.1 MiB]  33% Done                                  \r",
      "/ [15/58 files][  4.0 MiB/ 12.1 MiB]  33% Done                                  \r",
      "/ [16/58 files][  4.3 MiB/ 12.1 MiB]  35% Done                                  \r",
      "/ [16/58 files][  4.3 MiB/ 12.1 MiB]  35% Done                                  \r",
      "Copying gs://cloud-training-demos/babyweight/trained_model/export/exporter/1529351873/saved_model.pb...\n",
      "/ [17/58 files][  4.3 MiB/ 12.1 MiB]  35% Done                                  \r",
      "/ [17/58 files][  4.3 MiB/ 12.1 MiB]  35% Done                                  \r",
      "Copying gs://cloud-training-demos/babyweight/trained_model/export/exporter/1529351873/variables/variables.data-00000-of-00001...\n",
      "-\r",
      "- [18/58 files][  4.5 MiB/ 12.1 MiB]  37% Done                                  \r",
      "- [18/58 files][  4.5 MiB/ 12.1 MiB]  37% Done                                  \r",
      "Copying gs://cloud-training-demos/babyweight/trained_model/export/exporter/1529351873/variables/variables.index...\n",
      "- [19/58 files][  4.8 MiB/ 12.1 MiB]  39% Done                                  \r",
      "- [19/58 files][  4.8 MiB/ 12.1 MiB]  39% Done                                  \r",
      "Copying gs://cloud-training-demos/babyweight/trained_model/export/exporter/1529352472/saved_model.pb...\n",
      "Copying gs://cloud-training-demos/babyweight/trained_model/export/exporter/1529352472/variables/variables.data-00000-of-00001...\n",
      "\\\r",
      "\\ [20/58 files][  5.0 MiB/ 12.1 MiB]  41% Done                                  \r",
      "\\ [21/58 files][  5.0 MiB/ 12.1 MiB]  41% Done                                  \r",
      "\\ [21/58 files][  5.0 MiB/ 12.1 MiB]  41% Done                                  \r",
      "\\ [21/58 files][  5.0 MiB/ 12.1 MiB]  41% Done                                  \r",
      "\\ [22/58 files][  5.2 MiB/ 12.1 MiB]  43% Done                                  \r",
      "Copying gs://cloud-training-demos/babyweight/trained_model/export/exporter/1529352472/variables/variables.index...\n",
      "\\ [22/58 files][  5.2 MiB/ 12.1 MiB]  43% Done                                  \r",
      "Copying gs://cloud-training-demos/babyweight/trained_model/export/exporter/1529353074/saved_model.pb...\n",
      "\\ [23/58 files][  5.5 MiB/ 12.1 MiB]  45% Done                                  \r",
      "\\ [23/58 files][  5.5 MiB/ 12.1 MiB]  45% Done                                  \r",
      "Copying gs://cloud-training-demos/babyweight/trained_model/export/exporter/1529353074/variables/variables.data-00000-of-00001...\n",
      "\\ [24/58 files][  5.5 MiB/ 12.1 MiB]  45% Done                                  \r",
      "\\ [24/58 files][  5.5 MiB/ 12.1 MiB]  45% Done                                  \r",
      "Copying gs://cloud-training-demos/babyweight/trained_model/export/exporter/1529353074/variables/variables.index...\n",
      "|\r",
      "| [25/58 files][  5.7 MiB/ 12.1 MiB]  47% Done                                  \r",
      "| [25/58 files][  5.7 MiB/ 12.1 MiB]  47% Done                                  \r",
      "| [26/58 files][  5.9 MiB/ 12.1 MiB]  48% Done                                  \r",
      "Copying gs://cloud-training-demos/babyweight/trained_model/export/exporter/1529353677/saved_model.pb...\n",
      "| [26/58 files][  5.9 MiB/ 12.1 MiB]  48% Done                                  \r",
      "Copying gs://cloud-training-demos/babyweight/trained_model/export/exporter/1529353677/variables/variables.data-00000-of-00001...\n",
      "| [27/58 files][  5.9 MiB/ 12.1 MiB]  48% Done                                  \r",
      "| [27/58 files][  5.9 MiB/ 12.1 MiB]  48% Done                                  \r",
      "Copying gs://cloud-training-demos/babyweight/trained_model/export/exporter/1529353677/variables/variables.index...\n",
      "| [28/58 files][  6.2 MiB/ 12.1 MiB]  50% Done                                  \r",
      "| [28/58 files][  6.2 MiB/ 12.1 MiB]  50% Done                                  \r",
      "Copying gs://cloud-training-demos/babyweight/trained_model/export/exporter/1529354267/saved_model.pb...\n",
      "| [29/58 files][  6.4 MiB/ 12.1 MiB]  53% Done                                  \r",
      "| [29/58 files][  6.4 MiB/ 12.1 MiB]  53% Done                                  \r",
      "Copying gs://cloud-training-demos/babyweight/trained_model/export/exporter/1529354267/variables/variables.data-00000-of-00001...\n",
      "| [30/58 files][  6.6 MiB/ 12.1 MiB]  54% Done                                  \r",
      "| [30/58 files][  6.6 MiB/ 12.1 MiB]  54% Done                                  \r",
      "Copying gs://cloud-training-demos/babyweight/trained_model/export/exporter/1529354267/variables/variables.index...\n",
      "/\r",
      "/ [31/58 files][  6.9 MiB/ 12.1 MiB]  56% Done                                  \r",
      "/ [31/58 files][  6.9 MiB/ 12.1 MiB]  56% Done                                  \r",
      "/ [32/58 files][  6.9 MiB/ 12.1 MiB]  56% Done                                  \r",
      "Copying gs://cloud-training-demos/babyweight/trained_model/export/exporter/1529354862/saved_model.pb...\n",
      "/ [32/58 files][  6.9 MiB/ 12.1 MiB]  56% Done                                  \r",
      "Copying gs://cloud-training-demos/babyweight/trained_model/export/exporter/1529354862/variables/variables.data-00000-of-00001...\n",
      "/ [33/58 files][  7.1 MiB/ 12.1 MiB]  58% Done                                  \r",
      "/ [33/58 files][  7.1 MiB/ 12.1 MiB]  58% Done                                  \r",
      "Copying gs://cloud-training-demos/babyweight/trained_model/export/exporter/1529354862/variables/variables.index...\n",
      "-\r",
      "- [34/58 files][  7.3 MiB/ 12.1 MiB]  60% Done                                  \r",
      "- [34/58 files][  7.3 MiB/ 12.1 MiB]  60% Done                                  \r",
      "Copying gs://cloud-training-demos/babyweight/trained_model/export/exporter/1529355466/saved_model.pb...\n",
      "- [35/58 files][  7.3 MiB/ 12.1 MiB]  60% Done                                  \r",
      "- [35/58 files][  7.3 MiB/ 12.1 MiB]  60% Done                                  \r",
      "Copying gs://cloud-training-demos/babyweight/trained_model/export/exporter/1529355466/variables/variables.data-00000-of-00001...\n",
      "- [36/58 files][  7.5 MiB/ 12.1 MiB]  62% Done                                  \r",
      "- [36/58 files][  7.5 MiB/ 12.1 MiB]  62% Done                                  \r",
      "Copying gs://cloud-training-demos/babyweight/trained_model/export/exporter/1529355466/variables/variables.index...\n",
      "- [37/58 files][  7.8 MiB/ 12.1 MiB]  64% Done                                  \r",
      "- [37/58 files][  7.8 MiB/ 12.1 MiB]  64% Done                                  \r",
      "Copying gs://cloud-training-demos/babyweight/trained_model/graph.pbtxt...\n",
      "\\\r",
      "\\ [38/58 files][  8.0 MiB/ 12.1 MiB]  66% Done                                  \r",
      "\\ [38/58 files][  8.0 MiB/ 12.1 MiB]  66% Done                                  \r",
      "\\ [39/58 files][  8.0 MiB/ 12.1 MiB]  66% Done                                  \r",
      "Copying gs://cloud-training-demos/babyweight/trained_model/model.ckpt-342784.data-00000-of-00003...\n",
      "\\ [39/58 files][  8.0 MiB/ 12.1 MiB]  66% Done                                  \r",
      "Copying gs://cloud-training-demos/babyweight/trained_model/model.ckpt-342784.data-00001-of-00003...\n",
      "\\ [40/58 files][  8.0 MiB/ 12.1 MiB]  66% Done                                  \r",
      "\\ [40/58 files][  8.0 MiB/ 12.1 MiB]  66% Done                                  \r",
      "Copying gs://cloud-training-demos/babyweight/trained_model/model.ckpt-342784.data-00002-of-00003...\n",
      "\\ [41/58 files][  8.3 MiB/ 12.1 MiB]  68% Done                                  \r",
      "\\ [41/58 files][  8.3 MiB/ 12.1 MiB]  68% Done                                  \r",
      "Copying gs://cloud-training-demos/babyweight/trained_model/model.ckpt-342784.index...\n",
      "\\ [42/58 files][  8.3 MiB/ 12.1 MiB]  68% Done                                  \r",
      "\\ [42/58 files][  8.3 MiB/ 12.1 MiB]  68% Done                                  \r",
      "Copying gs://cloud-training-demos/babyweight/trained_model/model.ckpt-342784.meta...\n",
      "|\r",
      "| [43/58 files][  8.3 MiB/ 12.1 MiB]  68% Done                                  \r",
      "| [43/58 files][  8.3 MiB/ 12.1 MiB]  68% Done 765.7 KiB/s ETA 00:00:05         \r",
      "Copying gs://cloud-training-demos/babyweight/trained_model/model.ckpt-376661.data-00000-of-00003...\n",
      "| [44/58 files][  9.2 MiB/ 12.1 MiB]  76% Done 943.5 KiB/s ETA 00:00:03         \r",
      "| [44/58 files][  9.2 MiB/ 12.1 MiB]  76% Done 943.5 KiB/s ETA 00:00:03         \r",
      "Copying gs://cloud-training-demos/babyweight/trained_model/model.ckpt-376661.data-00001-of-00003...\n",
      "/\r",
      "/ [45/58 files][  9.2 MiB/ 12.1 MiB]  76% Done 777.8 KiB/s ETA 00:00:04         \r",
      "/ [45/58 files][  9.2 MiB/ 12.1 MiB]  76% Done 777.8 KiB/s ETA 00:00:04         \r",
      "Copying gs://cloud-training-demos/babyweight/trained_model/model.ckpt-376661.data-00002-of-00003...\n",
      "/ [46/58 files][  9.2 MiB/ 12.1 MiB]  76% Done 767.0 KiB/s ETA 00:00:04         \r",
      "/ [46/58 files][  9.2 MiB/ 12.1 MiB]  76% Done 767.0 KiB/s ETA 00:00:04         \r",
      "Copying gs://cloud-training-demos/babyweight/trained_model/model.ckpt-376661.index...\n",
      "/ [47/58 files][  9.7 MiB/ 12.1 MiB]  80% Done 886.0 KiB/s ETA 00:00:03         \r",
      "/ [47/58 files][  9.7 MiB/ 12.1 MiB]  80% Done 886.0 KiB/s ETA 00:00:03         \r",
      "Copying gs://cloud-training-demos/babyweight/trained_model/model.ckpt-376661.meta...\n",
      "/ [48/58 files][ 10.1 MiB/ 12.1 MiB]  84% Done 966.3 KiB/s ETA 00:00:02         \r",
      "/ [48/58 files][ 10.1 MiB/ 12.1 MiB]  84% Done 966.3 KiB/s ETA 00:00:02         \r",
      "Copying gs://cloud-training-demos/babyweight/trained_model/model.ckpt-390628.data-00000-of-00003...\n",
      "/ [49/58 files][ 10.6 MiB/ 12.1 MiB]  88% Done   1.0 MiB/s ETA 00:00:01         \r",
      "/ [49/58 files][ 10.6 MiB/ 12.1 MiB]  88% Done   1.0 MiB/s ETA 00:00:01         \r",
      "Copying gs://cloud-training-demos/babyweight/trained_model/model.ckpt-390628.data-00001-of-00003...\n",
      "-\r",
      "- [50/58 files][ 10.6 MiB/ 12.1 MiB]  88% Done  1014 KiB/s ETA 00:00:01         \r",
      "- [50/58 files][ 10.6 MiB/ 12.1 MiB]  88% Done 973.0 KiB/s ETA 00:00:01         \r",
      "- [51/58 files][ 10.6 MiB/ 12.1 MiB]  88% Done 873.0 KiB/s ETA 00:00:02         \r",
      "Copying gs://cloud-training-demos/babyweight/trained_model/model.ckpt-390628.data-00002-of-00003...\n",
      "- [51/58 files][ 10.6 MiB/ 12.1 MiB]  88% Done 873.0 KiB/s ETA 00:00:02         \r",
      "Copying gs://cloud-training-demos/babyweight/trained_model/model.ckpt-390628.index...\n",
      "\\\r",
      "\\ [52/58 files][ 10.6 MiB/ 12.1 MiB]  88% Done 818.5 KiB/s ETA 00:00:02         \r",
      "\\ [52/58 files][ 10.6 MiB/ 12.1 MiB]  88% Done 818.5 KiB/s ETA 00:00:02         \r",
      "\\ [53/58 files][ 10.6 MiB/ 12.1 MiB]  88% Done 812.2 KiB/s ETA 00:00:02         \r",
      "Copying gs://cloud-training-demos/babyweight/trained_model/model.ckpt-390628.meta...\n",
      "\\ [53/58 files][ 10.6 MiB/ 12.1 MiB]  88% Done 812.2 KiB/s ETA 00:00:02         \r",
      "\\ [54/58 files][ 11.1 MiB/ 12.1 MiB]  92% Done 901.7 KiB/s ETA 00:00:01         \r",
      "\\ [55/58 files][ 11.1 MiB/ 12.1 MiB]  92% Done 887.0 KiB/s ETA 00:00:01         \r",
      "\\ [56/58 files][ 11.6 MiB/ 12.1 MiB]  96% Done   1.0 MiB/s ETA 00:00:00         \r",
      "|\r",
      "| [57/58 files][ 12.1 MiB/ 12.1 MiB]  99% Done   1.1 MiB/s ETA 00:00:00         \r",
      "| [57/58 files][ 12.1 MiB/ 12.1 MiB]  99% Done 849.4 KiB/s ETA 00:00:00         \r",
      "/\r",
      "/ [58/58 files][ 12.1 MiB/ 12.1 MiB] 100% Done 849.4 KiB/s ETA 00:00:00         \r\n",
      "Operation completed over 58 objects/12.1 MiB.                                    \n"
     ]
    }
   ],
   "source": [
    "%bash\n",
    "# copy solution to Lab #5 (skip this step if you still have results from Lab 5 in your bucket)\n",
    "gsutil -m cp -R gs://cloud-training-demos/babyweight/trained_model gs://${BUCKET}/babyweight/trained_model"
   ]
  },
  {
   "cell_type": "markdown",
   "metadata": {},
   "source": [
    "## Task 1\n",
    "\n",
    "What files are present in the model trained directory (gs://${BUCKET}/babyweight/trained_model)?\n",
    "\n",
    "Hint (highlight to see): <p style='color:white'>\n",
    "Run gsutil ls in a bash cell.\n",
    "Answer: model checkpoints are in the trained model directory and several exported models (model architecture + weights) are in the export/exporter subdirectory\n",
    "</p>"
   ]
  },
  {
   "cell_type": "code",
   "execution_count": 6,
   "metadata": {},
   "outputs": [
    {
     "name": "stdout",
     "output_type": "stream",
     "text": [
      "gs://qwiklabs-gcp-729e9d4d1245f0fd/babyweight/trained_model/checkpoint\n",
      "gs://qwiklabs-gcp-729e9d4d1245f0fd/babyweight/trained_model/events.out.tfevents.1529347276.cmle-training-master-a137ac0fff-0-9q8r4\n",
      "gs://qwiklabs-gcp-729e9d4d1245f0fd/babyweight/trained_model/graph.pbtxt\n",
      "gs://qwiklabs-gcp-729e9d4d1245f0fd/babyweight/trained_model/model.ckpt-342784.data-00000-of-00003\n",
      "gs://qwiklabs-gcp-729e9d4d1245f0fd/babyweight/trained_model/model.ckpt-342784.data-00001-of-00003\n",
      "gs://qwiklabs-gcp-729e9d4d1245f0fd/babyweight/trained_model/model.ckpt-342784.data-00002-of-00003\n",
      "gs://qwiklabs-gcp-729e9d4d1245f0fd/babyweight/trained_model/model.ckpt-342784.index\n",
      "gs://qwiklabs-gcp-729e9d4d1245f0fd/babyweight/trained_model/model.ckpt-342784.meta\n",
      "gs://qwiklabs-gcp-729e9d4d1245f0fd/babyweight/trained_model/model.ckpt-376661.data-00000-of-00003\n",
      "gs://qwiklabs-gcp-729e9d4d1245f0fd/babyweight/trained_model/model.ckpt-376661.data-00001-of-00003\n",
      "gs://qwiklabs-gcp-729e9d4d1245f0fd/babyweight/trained_model/model.ckpt-376661.data-00002-of-00003\n",
      "gs://qwiklabs-gcp-729e9d4d1245f0fd/babyweight/trained_model/model.ckpt-376661.index\n",
      "gs://qwiklabs-gcp-729e9d4d1245f0fd/babyweight/trained_model/model.ckpt-376661.meta\n",
      "gs://qwiklabs-gcp-729e9d4d1245f0fd/babyweight/trained_model/model.ckpt-390628.data-00000-of-00003\n",
      "gs://qwiklabs-gcp-729e9d4d1245f0fd/babyweight/trained_model/model.ckpt-390628.data-00001-of-00003\n",
      "gs://qwiklabs-gcp-729e9d4d1245f0fd/babyweight/trained_model/model.ckpt-390628.data-00002-of-00003\n",
      "gs://qwiklabs-gcp-729e9d4d1245f0fd/babyweight/trained_model/model.ckpt-390628.index\n",
      "gs://qwiklabs-gcp-729e9d4d1245f0fd/babyweight/trained_model/model.ckpt-390628.meta\n",
      "gs://qwiklabs-gcp-729e9d4d1245f0fd/babyweight/trained_model/eval/\n",
      "gs://qwiklabs-gcp-729e9d4d1245f0fd/babyweight/trained_model/export/\n"
     ]
    }
   ],
   "source": [
    "%%bash\n",
    "gsutil ls gs://${BUCKET}/babyweight/trained_model"
   ]
  },
  {
   "cell_type": "markdown",
   "metadata": {},
   "source": [
    "Checkpoints are in the `trained_model`, several models are in the `export/exporter` directory."
   ]
  },
  {
   "cell_type": "markdown",
   "metadata": {},
   "source": [
    "<h2> Task 2: Deploy trained, exported model </h2>\n",
    "\n",
    "Uncomment and run the the appropriate gcloud lines ONE-BY-ONE to \n",
    "deploy the trained model to act as a REST web service.\n",
    "\n",
    "Hint (highlight to see): <p style='color:white'>\n",
    "The very first time, you need only the last two gcloud calls to create the model and the version.\n",
    "To experiment later, you might need to delete any deployed version, but should not have to recreate the model\n",
    "</p>"
   ]
  },
  {
   "cell_type": "code",
   "execution_count": null,
   "metadata": {},
   "outputs": [],
   "source": [
    "%bash\n",
    "gsutil ls gs://${BUCKET}/babyweight/trained_model/export/exporter/"
   ]
  },
  {
   "cell_type": "code",
   "execution_count": 9,
   "metadata": {},
   "outputs": [
    {
     "name": "stdout",
     "output_type": "stream",
     "text": [
      "Deleting and deploying babyweight ml_on_gcp from gs://qwiklabs-gcp-729e9d4d1245f0fd/babyweight/trained_model/export/exporter/1529355466/ ... this will take a few minutes\n"
     ]
    },
    {
     "name": "stderr",
     "output_type": "stream",
     "text": [
      "ERROR: (gcloud.ml-engine.models.create) Resource in project [qwiklabs-gcp-729e9d4d1245f0fd] is the subject of a conflict: Field: model.name Error: A model with the same name already exists.\n",
      "- '@type': type.googleapis.com/google.rpc.BadRequest\n",
      "  fieldViolations:\n",
      "  - description: A model with the same name already exists.\n",
      "    field: model.name\n",
      "Creating version (this might take a few minutes)......\n",
      "...................................................................................................................................................................................................................................................................................................................................done.\n"
     ]
    }
   ],
   "source": [
    "%bash\n",
    "MODEL_NAME=\"babyweight\"\n",
    "MODEL_VERSION=\"ml_on_gcp\"\n",
    "MODEL_LOCATION=$(gsutil ls gs://${BUCKET}/babyweight/trained_model/export/exporter/ | tail -1)\n",
    "echo \"Deleting and deploying $MODEL_NAME $MODEL_VERSION from $MODEL_LOCATION ... this will take a few minutes\"\n",
    "#gcloud ml-engine versions delete ${MODEL_VERSION} --model ${MODEL_NAME}\n",
    "#gcloud ml-engine models delete ${MODEL_NAME}\n",
    "gcloud ml-engine models create ${MODEL_NAME} --regions $REGION\n",
    "gcloud ml-engine versions create ${MODEL_VERSION} --model ${MODEL_NAME} --origin ${MODEL_LOCATION} --runtime-version $TFVERSION"
   ]
  },
  {
   "cell_type": "markdown",
   "metadata": {},
   "source": [
    "## Task 3: Write Python code to invoke the deployed model (online prediction)\n",
    "\n",
    "<p>\n",
    "Send a JSON request to the endpoint of the service to make it predict a baby's weight. The order of the responses are the order of the instances.\n",
    "\n",
    "The deployed model requires the input instances to be formatted as follows:\n",
    "<pre>\n",
    "{\n",
    "      'key': 'b1',\n",
    "      'is_male': 'True',\n",
    "      'mother_age': 26.0,\n",
    "      'plurality': 'Single(1)',\n",
    "      'gestation_weeks': 39\n",
    "},\n",
    "</pre>\n",
    "The key is an arbitrary string.  Allowed values for is_male are True, False and Unknown.\n",
    "Allowed values for plurality are Single(1), Twins(2), Triplets(3), Multiple(2+)"
   ]
  },
  {
   "cell_type": "code",
   "execution_count": 11,
   "metadata": {},
   "outputs": [
    {
     "name": "stdout",
     "output_type": "stream",
     "text": [
      "b'{\"predictions\": [{\"predictions\": [7.740230083465576], \"key\": [\"b1\"]}, {\"predictions\": [7.4859113693237305], \"key\": [\"b2\"]}]}'\n"
     ]
    }
   ],
   "source": [
    "from oauth2client.client import GoogleCredentials\n",
    "import requests\n",
    "import json\n",
    "\n",
    "MODEL_NAME = 'babyweight'\n",
    "MODEL_VERSION = 'ml_on_gcp'\n",
    "\n",
    "token = GoogleCredentials.get_application_default().get_access_token().access_token\n",
    "api = 'https://ml.googleapis.com/v1/projects/{}/models/{}/versions/{}:predict' \\\n",
    "         .format(PROJECT, MODEL_NAME, MODEL_VERSION)\n",
    "headers = {'Authorization': 'Bearer ' + token }\n",
    "data = {\n",
    "  'instances': [\n",
    "# TODO: complete\n",
    "    {\n",
    "      'key': 'b1',\n",
    "      'is_male': 'True',\n",
    "      'mother_age': 26.0,\n",
    "      'plurality': 'Single(1)',\n",
    "      'gestation_weeks': 39\n",
    "    },\n",
    "    {\n",
    "      'key': 'b2',\n",
    "      'is_male': 'False',\n",
    "      'mother_age': 26.0,\n",
    "      'plurality': 'Single(1)',\n",
    "      'gestation_weeks': 39\n",
    "    },\n",
    "  ]\n",
    "}\n",
    "response = requests.post(api, json=data, headers=headers)\n",
    "print(response.content)"
   ]
  },
  {
   "cell_type": "markdown",
   "metadata": {},
   "source": [
    "<h2> Task 4: Try out batch prediction </h2>\n",
    "<p>\n",
    "Batch prediction is commonly used when you thousands to millions of predictions.\n",
    "Create a file withe one instance per line and submit using gcloud."
   ]
  },
  {
   "cell_type": "code",
   "execution_count": 12,
   "metadata": {},
   "outputs": [
    {
     "name": "stdout",
     "output_type": "stream",
     "text": [
      "Writing inputs.json\n"
     ]
    }
   ],
   "source": [
    "%writefile inputs.json\n",
    "{\"key\": \"b1\", \"is_male\": \"True\", \"mother_age\": 26.0, \"plurality\": \"Single(1)\", \"gestation_weeks\": 39}\n",
    "{\"key\": \"g1\", \"is_male\": \"False\", \"mother_age\": 26.0, \"plurality\": \"Single(1)\", \"gestation_weeks\": 39}"
   ]
  },
  {
   "cell_type": "code",
   "execution_count": 13,
   "metadata": {},
   "outputs": [
    {
     "name": "stdout",
     "output_type": "stream",
     "text": [
      "jobId: babypred_190303_135420\n",
      "state: QUEUED\n"
     ]
    },
    {
     "name": "stderr",
     "output_type": "stream",
     "text": [
      "Copying file://inputs.json [Content-Type=application/json]...\n",
      "/ [0 files][    0.0 B/  204.0 B]                                                \r",
      "/ [1 files][  204.0 B/  204.0 B]                                                \r",
      "-\r\n",
      "Operation completed over 1 objects/204.0 B.                                      \n",
      "CommandException: 1 files/objects could not be removed.\n",
      "Job [babypred_190303_135420] submitted successfully.\n",
      "Your job is still active. You may view the status of your job with the command\n",
      "\n",
      "  $ gcloud ml-engine jobs describe babypred_190303_135420\n",
      "\n",
      "or continue streaming the logs with the command\n",
      "\n",
      "  $ gcloud ml-engine jobs stream-logs babypred_190303_135420\n"
     ]
    }
   ],
   "source": [
    "%bash\n",
    "INPUT=gs://${BUCKET}/babyweight/batchpred/inputs.json\n",
    "OUTPUT=gs://${BUCKET}/babyweight/batchpred/outputs\n",
    "gsutil cp inputs.json $INPUT\n",
    "gsutil -m rm -rf $OUTPUT \n",
    "gcloud ml-engine jobs submit prediction babypred_$(date -u +%y%m%d_%H%M%S) \\\n",
    "  --data-format=TEXT --region ${REGION} \\\n",
    "  --input-paths=$INPUT \\\n",
    "  --output-path=$OUTPUT \\\n",
    "  --model=babyweight --version=ml_on_gcp"
   ]
  },
  {
   "cell_type": "code",
   "execution_count": 17,
   "metadata": {},
   "outputs": [
    {
     "name": "stdout",
     "output_type": "stream",
     "text": [
      "createTime: '2019-03-03T13:54:22Z'\n",
      "etag: RHPoCLLcgVM=\n",
      "jobId: babypred_190303_135420\n",
      "predictionInput:\n",
      "  dataFormat: JSON\n",
      "  inputPaths:\n",
      "  - gs://qwiklabs-gcp-729e9d4d1245f0fd/babyweight/batchpred/inputs.json\n",
      "  outputPath: gs://qwiklabs-gcp-729e9d4d1245f0fd/babyweight/batchpred/outputs\n",
      "  region: europe-west1\n",
      "  runtimeVersion: '1.7'\n",
      "  versionName: projects/qwiklabs-gcp-729e9d4d1245f0fd/models/babyweight/versions/ml_on_gcp\n",
      "predictionOutput:\n",
      "  nodeHours: 0.04\n",
      "  outputPath: gs://qwiklabs-gcp-729e9d4d1245f0fd/babyweight/batchpred/outputs\n",
      "startTime: '2019-03-03T13:54:26Z'\n",
      "state: RUNNING\n"
     ]
    },
    {
     "name": "stderr",
     "output_type": "stream",
     "text": [
      "\n",
      "View job in the Cloud Console at:\n",
      "https://console.cloud.google.com/ml/jobs/babypred_190303_135420?project=qwiklabs-gcp-729e9d4d1245f0fd\n",
      "\n",
      "View logs at:\n",
      "https://console.cloud.google.com/logs?resource=ml.googleapis.com%2Fjob_id%2Fbabypred_190303_135420&project=qwiklabs-gcp-729e9d4d1245f0fd\n"
     ]
    }
   ],
   "source": [
    "%%bash\n",
    "gcloud ml-engine jobs describe babypred_190303_135420"
   ]
  },
  {
   "cell_type": "markdown",
   "metadata": {},
   "source": [
    "Copyright 2017 Google Inc. Licensed under the Apache License, Version 2.0 (the \"License\"); you may not use this file except in compliance with the License. You may obtain a copy of the License at http://www.apache.org/licenses/LICENSE-2.0 Unless required by applicable law or agreed to in writing, software distributed under the License is distributed on an \"AS IS\" BASIS, WITHOUT WARRANTIES OR CONDITIONS OF ANY KIND, either express or implied. See the License for the specific language governing permissions and limitations under the License"
   ]
  }
 ],
 "metadata": {
  "kernelspec": {
   "display_name": "Python 3",
   "language": "python",
   "name": "python3"
  },
  "language_info": {
   "codemirror_mode": {
    "name": "ipython",
    "version": 3
   },
   "file_extension": ".py",
   "mimetype": "text/x-python",
   "name": "python",
   "nbconvert_exporter": "python",
   "pygments_lexer": "ipython3",
   "version": "3.5.6"
  }
 },
 "nbformat": 4,
 "nbformat_minor": 2
}
